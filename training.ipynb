{
  "nbformat": 4,
  "nbformat_minor": 0,
  "metadata": {
    "colab": {
      "name": "training.ipynb",
      "provenance": [],
      "collapsed_sections": [],
      "toc_visible": true,
      "include_colab_link": true
    },
    "kernelspec": {
      "name": "python3",
      "display_name": "Python 3"
    }
  },
  "cells": [
    {
      "cell_type": "markdown",
      "metadata": {
        "id": "view-in-github",
        "colab_type": "text"
      },
      "source": [
        "<a href=\"https://colab.research.google.com/github/edtechequity/ml_fairness_toolkit/blob/master/training.ipynb\" target=\"_parent\"><img src=\"https://colab.research.google.com/assets/colab-badge.svg\" alt=\"Open In Colab\"/></a>"
      ]
    },
    {
      "cell_type": "markdown",
      "metadata": {
        "id": "Q6Y4mO-rR0I3",
        "colab_type": "text"
      },
      "source": [
        "# Introduction\n",
        "\n",
        "This module includes code to: \n",
        "- Learn and understand different optimization functions\n",
        "- Examine feature importance\n",
        "- Discuss and consider statistical fairness"
      ]
    },
    {
      "cell_type": "code",
      "metadata": {
        "id": "c5J9ZjdWDsA6",
        "colab_type": "code",
        "outputId": "80c914b8-2161-4a1b-901f-4c49f15b270a",
        "colab": {
          "base_uri": "https://localhost:8080/",
          "height": 360
        }
      },
      "source": [
        "import pandas as pd \n",
        "import time\n",
        "import numpy\n",
        "import matplotlib.pyplot as plt\n",
        "!pip install eli5\n",
        "import eli5\n",
        "from eli5.sklearn import PermutationImportance\n",
        "from eli5.permutation_importance import get_score_importances\n",
        "from numpy import loadtxt\n",
        "from sklearn.model_selection import GridSearchCV\n",
        "from sklearn.inspection import permutation_importance\n",
        "from keras.wrappers.scikit_learn import KerasClassifier\n",
        "from keras.models import Sequential\n",
        "from keras.layers import Dense\n",
        "from sklearn.model_selection import train_test_split"
      ],
      "execution_count": 0,
      "outputs": [
        {
          "output_type": "stream",
          "text": [
            "Collecting eli5\n",
            "\u001b[?25l  Downloading https://files.pythonhosted.org/packages/97/2f/c85c7d8f8548e460829971785347e14e45fa5c6617da374711dec8cb38cc/eli5-0.10.1-py2.py3-none-any.whl (105kB)\n",
            "\r\u001b[K     |███                             | 10kB 17.8MB/s eta 0:00:01\r\u001b[K     |██████▏                         | 20kB 1.7MB/s eta 0:00:01\r\u001b[K     |█████████▎                      | 30kB 2.4MB/s eta 0:00:01\r\u001b[K     |████████████▍                   | 40kB 1.6MB/s eta 0:00:01\r\u001b[K     |███████████████▌                | 51kB 1.8MB/s eta 0:00:01\r\u001b[K     |██████████████████▋             | 61kB 2.2MB/s eta 0:00:01\r\u001b[K     |█████████████████████▊          | 71kB 2.4MB/s eta 0:00:01\r\u001b[K     |████████████████████████▊       | 81kB 2.5MB/s eta 0:00:01\r\u001b[K     |███████████████████████████▉    | 92kB 2.8MB/s eta 0:00:01\r\u001b[K     |███████████████████████████████ | 102kB 2.7MB/s eta 0:00:01\r\u001b[K     |████████████████████████████████| 112kB 2.7MB/s \n",
            "\u001b[?25hRequirement already satisfied: attrs>16.0.0 in /usr/local/lib/python3.6/dist-packages (from eli5) (19.3.0)\n",
            "Requirement already satisfied: six in /usr/local/lib/python3.6/dist-packages (from eli5) (1.12.0)\n",
            "Requirement already satisfied: graphviz in /usr/local/lib/python3.6/dist-packages (from eli5) (0.10.1)\n",
            "Requirement already satisfied: numpy>=1.9.0 in /usr/local/lib/python3.6/dist-packages (from eli5) (1.18.2)\n",
            "Requirement already satisfied: tabulate>=0.7.7 in /usr/local/lib/python3.6/dist-packages (from eli5) (0.8.6)\n",
            "Requirement already satisfied: jinja2 in /usr/local/lib/python3.6/dist-packages (from eli5) (2.11.1)\n",
            "Requirement already satisfied: scikit-learn>=0.18 in /usr/local/lib/python3.6/dist-packages (from eli5) (0.22.2.post1)\n",
            "Requirement already satisfied: scipy in /usr/local/lib/python3.6/dist-packages (from eli5) (1.4.1)\n",
            "Requirement already satisfied: MarkupSafe>=0.23 in /usr/local/lib/python3.6/dist-packages (from jinja2->eli5) (1.1.1)\n",
            "Requirement already satisfied: joblib>=0.11 in /usr/local/lib/python3.6/dist-packages (from scikit-learn>=0.18->eli5) (0.14.1)\n",
            "Installing collected packages: eli5\n",
            "Successfully installed eli5-0.10.1\n"
          ],
          "name": "stdout"
        },
        {
          "output_type": "stream",
          "text": [
            "/usr/local/lib/python3.6/dist-packages/sklearn/utils/deprecation.py:144: FutureWarning: The sklearn.metrics.scorer module is  deprecated in version 0.22 and will be removed in version 0.24. The corresponding classes / functions should instead be imported from sklearn.metrics. Anything that cannot be imported from sklearn.metrics is now part of the private API.\n",
            "  warnings.warn(message, FutureWarning)\n",
            "/usr/local/lib/python3.6/dist-packages/sklearn/utils/deprecation.py:144: FutureWarning: The sklearn.feature_selection.base module is  deprecated in version 0.22 and will be removed in version 0.24. The corresponding classes / functions should instead be imported from sklearn.feature_selection. Anything that cannot be imported from sklearn.feature_selection is now part of the private API.\n",
            "  warnings.warn(message, FutureWarning)\n"
          ],
          "name": "stderr"
        }
      ]
    },
    {
      "cell_type": "markdown",
      "metadata": {
        "id": "nVusjJ2pUK_5",
        "colab_type": "text"
      },
      "source": [
        "# Import data\n",
        "\n",
        "We will be using the same dataset we used for the dataset module. You can redownload it from Kaggle [here](https://www.kaggle.com/danofer/compass/data#cox-violent-parsed_filt.csv) if you need to. The file we'll be using is propublica_data_for_fairml.csv--the same as before."
      ]
    },
    {
      "cell_type": "markdown",
      "metadata": {
        "id": "XwVcWjZoDYf4",
        "colab_type": "text"
      },
      "source": [
        "## Load dataset"
      ]
    },
    {
      "cell_type": "code",
      "metadata": {
        "id": "dyIdqtZFUuJT",
        "colab_type": "code",
        "colab": {}
      },
      "source": [
        "df = pd.read_csv('propublica_data_for_fairml.csv')  "
      ],
      "execution_count": 0,
      "outputs": []
    },
    {
      "cell_type": "code",
      "metadata": {
        "id": "D-ha221A9Xfy",
        "colab_type": "code",
        "outputId": "23fffcf7-ab3d-4d13-9a24-a3283684ae7e",
        "colab": {
          "base_uri": "https://localhost:8080/",
          "height": 224
        }
      },
      "source": [
        "df.head()"
      ],
      "execution_count": 0,
      "outputs": [
        {
          "output_type": "execute_result",
          "data": {
            "text/html": [
              "<div>\n",
              "<style scoped>\n",
              "    .dataframe tbody tr th:only-of-type {\n",
              "        vertical-align: middle;\n",
              "    }\n",
              "\n",
              "    .dataframe tbody tr th {\n",
              "        vertical-align: top;\n",
              "    }\n",
              "\n",
              "    .dataframe thead th {\n",
              "        text-align: right;\n",
              "    }\n",
              "</style>\n",
              "<table border=\"1\" class=\"dataframe\">\n",
              "  <thead>\n",
              "    <tr style=\"text-align: right;\">\n",
              "      <th></th>\n",
              "      <th>Two_yr_Recidivism</th>\n",
              "      <th>Number_of_Priors</th>\n",
              "      <th>score_factor</th>\n",
              "      <th>Age_Above_FourtyFive</th>\n",
              "      <th>Age_Below_TwentyFive</th>\n",
              "      <th>African_American</th>\n",
              "      <th>Asian</th>\n",
              "      <th>Hispanic</th>\n",
              "      <th>Native_American</th>\n",
              "      <th>Other</th>\n",
              "      <th>Female</th>\n",
              "      <th>Misdemeanor</th>\n",
              "    </tr>\n",
              "  </thead>\n",
              "  <tbody>\n",
              "    <tr>\n",
              "      <th>0</th>\n",
              "      <td>0</td>\n",
              "      <td>0</td>\n",
              "      <td>0</td>\n",
              "      <td>1</td>\n",
              "      <td>0</td>\n",
              "      <td>0</td>\n",
              "      <td>0</td>\n",
              "      <td>0</td>\n",
              "      <td>0</td>\n",
              "      <td>1</td>\n",
              "      <td>0</td>\n",
              "      <td>0</td>\n",
              "    </tr>\n",
              "    <tr>\n",
              "      <th>1</th>\n",
              "      <td>1</td>\n",
              "      <td>0</td>\n",
              "      <td>0</td>\n",
              "      <td>0</td>\n",
              "      <td>0</td>\n",
              "      <td>1</td>\n",
              "      <td>0</td>\n",
              "      <td>0</td>\n",
              "      <td>0</td>\n",
              "      <td>0</td>\n",
              "      <td>0</td>\n",
              "      <td>0</td>\n",
              "    </tr>\n",
              "    <tr>\n",
              "      <th>2</th>\n",
              "      <td>1</td>\n",
              "      <td>4</td>\n",
              "      <td>0</td>\n",
              "      <td>0</td>\n",
              "      <td>1</td>\n",
              "      <td>1</td>\n",
              "      <td>0</td>\n",
              "      <td>0</td>\n",
              "      <td>0</td>\n",
              "      <td>0</td>\n",
              "      <td>0</td>\n",
              "      <td>0</td>\n",
              "    </tr>\n",
              "    <tr>\n",
              "      <th>3</th>\n",
              "      <td>0</td>\n",
              "      <td>0</td>\n",
              "      <td>0</td>\n",
              "      <td>0</td>\n",
              "      <td>0</td>\n",
              "      <td>0</td>\n",
              "      <td>0</td>\n",
              "      <td>0</td>\n",
              "      <td>0</td>\n",
              "      <td>1</td>\n",
              "      <td>0</td>\n",
              "      <td>1</td>\n",
              "    </tr>\n",
              "    <tr>\n",
              "      <th>4</th>\n",
              "      <td>1</td>\n",
              "      <td>14</td>\n",
              "      <td>1</td>\n",
              "      <td>0</td>\n",
              "      <td>0</td>\n",
              "      <td>0</td>\n",
              "      <td>0</td>\n",
              "      <td>0</td>\n",
              "      <td>0</td>\n",
              "      <td>0</td>\n",
              "      <td>0</td>\n",
              "      <td>0</td>\n",
              "    </tr>\n",
              "  </tbody>\n",
              "</table>\n",
              "</div>"
            ],
            "text/plain": [
              "   Two_yr_Recidivism  Number_of_Priors  ...  Female  Misdemeanor\n",
              "0                  0                 0  ...       0            0\n",
              "1                  1                 0  ...       0            0\n",
              "2                  1                 4  ...       0            0\n",
              "3                  0                 0  ...       0            1\n",
              "4                  1                14  ...       0            0\n",
              "\n",
              "[5 rows x 12 columns]"
            ]
          },
          "metadata": {
            "tags": []
          },
          "execution_count": 8
        }
      ]
    },
    {
      "cell_type": "code",
      "metadata": {
        "id": "blW_JM00D3jB",
        "colab_type": "code",
        "outputId": "de0940e3-8df2-427f-fc52-cf0f9bd4ee4e",
        "colab": {
          "base_uri": "https://localhost:8080/",
          "height": 34
        }
      },
      "source": [
        "df.shape"
      ],
      "execution_count": 0,
      "outputs": [
        {
          "output_type": "execute_result",
          "data": {
            "text/plain": [
              "(6172, 12)"
            ]
          },
          "metadata": {
            "tags": []
          },
          "execution_count": 29
        }
      ]
    },
    {
      "cell_type": "markdown",
      "metadata": {
        "id": "2-6vt1HRDb5Y",
        "colab_type": "text"
      },
      "source": [
        "## Split data"
      ]
    },
    {
      "cell_type": "code",
      "metadata": {
        "id": "TaP3pdvnApDC",
        "colab_type": "code",
        "outputId": "dc182a6b-bd76-4505-dd0a-3846a0b92c04",
        "colab": {
          "base_uri": "https://localhost:8080/",
          "height": 224
        }
      },
      "source": [
        "# X values \n",
        "X = df.iloc[:,1:]\n",
        "X.head()"
      ],
      "execution_count": 0,
      "outputs": [
        {
          "output_type": "execute_result",
          "data": {
            "text/html": [
              "<div>\n",
              "<style scoped>\n",
              "    .dataframe tbody tr th:only-of-type {\n",
              "        vertical-align: middle;\n",
              "    }\n",
              "\n",
              "    .dataframe tbody tr th {\n",
              "        vertical-align: top;\n",
              "    }\n",
              "\n",
              "    .dataframe thead th {\n",
              "        text-align: right;\n",
              "    }\n",
              "</style>\n",
              "<table border=\"1\" class=\"dataframe\">\n",
              "  <thead>\n",
              "    <tr style=\"text-align: right;\">\n",
              "      <th></th>\n",
              "      <th>Number_of_Priors</th>\n",
              "      <th>score_factor</th>\n",
              "      <th>Age_Above_FourtyFive</th>\n",
              "      <th>Age_Below_TwentyFive</th>\n",
              "      <th>African_American</th>\n",
              "      <th>Asian</th>\n",
              "      <th>Hispanic</th>\n",
              "      <th>Native_American</th>\n",
              "      <th>Other</th>\n",
              "      <th>Female</th>\n",
              "      <th>Misdemeanor</th>\n",
              "    </tr>\n",
              "  </thead>\n",
              "  <tbody>\n",
              "    <tr>\n",
              "      <th>0</th>\n",
              "      <td>0</td>\n",
              "      <td>0</td>\n",
              "      <td>1</td>\n",
              "      <td>0</td>\n",
              "      <td>0</td>\n",
              "      <td>0</td>\n",
              "      <td>0</td>\n",
              "      <td>0</td>\n",
              "      <td>1</td>\n",
              "      <td>0</td>\n",
              "      <td>0</td>\n",
              "    </tr>\n",
              "    <tr>\n",
              "      <th>1</th>\n",
              "      <td>0</td>\n",
              "      <td>0</td>\n",
              "      <td>0</td>\n",
              "      <td>0</td>\n",
              "      <td>1</td>\n",
              "      <td>0</td>\n",
              "      <td>0</td>\n",
              "      <td>0</td>\n",
              "      <td>0</td>\n",
              "      <td>0</td>\n",
              "      <td>0</td>\n",
              "    </tr>\n",
              "    <tr>\n",
              "      <th>2</th>\n",
              "      <td>4</td>\n",
              "      <td>0</td>\n",
              "      <td>0</td>\n",
              "      <td>1</td>\n",
              "      <td>1</td>\n",
              "      <td>0</td>\n",
              "      <td>0</td>\n",
              "      <td>0</td>\n",
              "      <td>0</td>\n",
              "      <td>0</td>\n",
              "      <td>0</td>\n",
              "    </tr>\n",
              "    <tr>\n",
              "      <th>3</th>\n",
              "      <td>0</td>\n",
              "      <td>0</td>\n",
              "      <td>0</td>\n",
              "      <td>0</td>\n",
              "      <td>0</td>\n",
              "      <td>0</td>\n",
              "      <td>0</td>\n",
              "      <td>0</td>\n",
              "      <td>1</td>\n",
              "      <td>0</td>\n",
              "      <td>1</td>\n",
              "    </tr>\n",
              "    <tr>\n",
              "      <th>4</th>\n",
              "      <td>14</td>\n",
              "      <td>1</td>\n",
              "      <td>0</td>\n",
              "      <td>0</td>\n",
              "      <td>0</td>\n",
              "      <td>0</td>\n",
              "      <td>0</td>\n",
              "      <td>0</td>\n",
              "      <td>0</td>\n",
              "      <td>0</td>\n",
              "      <td>0</td>\n",
              "    </tr>\n",
              "  </tbody>\n",
              "</table>\n",
              "</div>"
            ],
            "text/plain": [
              "   Number_of_Priors  score_factor  ...  Female  Misdemeanor\n",
              "0                 0             0  ...       0            0\n",
              "1                 0             0  ...       0            0\n",
              "2                 4             0  ...       0            0\n",
              "3                 0             0  ...       0            1\n",
              "4                14             1  ...       0            0\n",
              "\n",
              "[5 rows x 11 columns]"
            ]
          },
          "metadata": {
            "tags": []
          },
          "execution_count": 17
        }
      ]
    },
    {
      "cell_type": "code",
      "metadata": {
        "id": "vA6WDefxB0-S",
        "colab_type": "code",
        "outputId": "22522480-1f9c-4251-d4db-03ea6b39d70a",
        "colab": {
          "base_uri": "https://localhost:8080/",
          "height": 119
        }
      },
      "source": [
        "# y values \n",
        "y = df.iloc[:,0]\n",
        "y.head()"
      ],
      "execution_count": 0,
      "outputs": [
        {
          "output_type": "execute_result",
          "data": {
            "text/plain": [
              "0    0\n",
              "1    1\n",
              "2    1\n",
              "3    0\n",
              "4    1\n",
              "Name: Two_yr_Recidivism, dtype: int64"
            ]
          },
          "metadata": {
            "tags": []
          },
          "execution_count": 18
        }
      ]
    },
    {
      "cell_type": "markdown",
      "metadata": {
        "id": "VOGq5LFxU9Lp",
        "colab_type": "text"
      },
      "source": [
        "# Training task\n",
        "\n",
        "Our goal is to use the above data to try to predict whether an inmmate will recidivate within 2 years. If you'll recall from the Ideation stage, this is a supervised machine learning problem because we have a defined task with labeled data to support it. Essentially, we want to create a function that looks something like this:\n",
        "\n",
        "```\n",
        "f (data_on_person) = (likelihood that person will recidivate) = {0,1}\n",
        "```\n",
        "\n",
        "- data_on_person means all of the columns listed above: number of prior convictions (Number_of_Priors), whether they are older than 45 (Age_Above_FourtyFive), and so on.  \n",
        "- 0 = person did not recidivate and 1 = person did recidivate within 2 years. "
      ]
    },
    {
      "cell_type": "markdown",
      "metadata": {
        "id": "2aLcOtZ2_xLI",
        "colab_type": "text"
      },
      "source": [
        "## A simple neural network\n",
        "\n",
        "Here's a basic neural network we will use just for demonstration purposes--your team most likely will have to go through many rounds of testing to create a specialized network for your company if you decide to go the deep learning route. \n",
        "\n",
        "There are three [dense](https://keras.io/layers/core/) layers, and the model is compiled with binary crossentropy loss and optimized with stochastic gradient descent. For a discussion of choosing which loss function to use, see [this link](https://machinelearningmastery.com/how-to-choose-loss-functions-when-training-deep-learning-neural-networks/). We will figure out the best number of epochs, batch size, and optimizer in hyperparameter tuning later.\n",
        "\n",
        "Remember that this is only \"best\" in terms of accuracy and there are many metrics one should weigh when deciding what hyperparameters to use! This example is purposefully simple so we can show feature importance with the fewest steps.  "
      ]
    },
    {
      "cell_type": "code",
      "metadata": {
        "id": "o7w0QdzOCKQT",
        "colab_type": "code",
        "outputId": "cfefeaa0-dee6-43f6-a226-c81cdd3fd969",
        "colab": {
          "base_uri": "https://localhost:8080/",
          "height": 34
        }
      },
      "source": [
        "num_feats = X.shape[1]\n",
        "num_feats"
      ],
      "execution_count": 0,
      "outputs": [
        {
          "output_type": "execute_result",
          "data": {
            "text/plain": [
              "11"
            ]
          },
          "metadata": {
            "tags": []
          },
          "execution_count": 45
        }
      ]
    },
    {
      "cell_type": "code",
      "metadata": {
        "id": "wMuaIZ3l9GxU",
        "colab_type": "code",
        "colab": {}
      },
      "source": [
        "model = Sequential()\n",
        "model.add(Dense(12, input_dim=num_feats, activation='relu'))\n",
        "model.add(Dense(num_feats, activation='relu'))\n",
        "model.add(Dense(1, activation='sigmoid'))\n",
        "\n",
        "model.compile(loss='binary_crossentropy', optimizer='SGD', metrics=['accuracy'])"
      ],
      "execution_count": 0,
      "outputs": []
    },
    {
      "cell_type": "code",
      "metadata": {
        "id": "h93WYsn4AIi4",
        "colab_type": "code",
        "outputId": "41e97df0-b546-43d6-bac8-3089d3864f94",
        "colab": {
          "base_uri": "https://localhost:8080/",
          "height": 34
        }
      },
      "source": [
        "start = time.time()\n",
        "history = model.fit(X, y, validation_split=0.2, epochs=10, batch_size=10, verbose=0)\n",
        "\n",
        "print('time to train: ', time.time() - start)"
      ],
      "execution_count": 0,
      "outputs": [
        {
          "output_type": "stream",
          "text": [
            "time to train:  6.49271559715271\n"
          ],
          "name": "stdout"
        }
      ]
    },
    {
      "cell_type": "markdown",
      "metadata": {
        "id": "dNy6Ej6MUx9v",
        "colab_type": "text"
      },
      "source": [
        "## Evaluate\n",
        "\n",
        "For simplicity here, we are only going to examine the accuracy metric to see how our model did. **Please remember that accuracy is not the only, or necessarily most important, metric!** See [this link](https://scikit-learn.org/stable/modules/model_evaluation.html#classification-metrics) for a large list of other metrics your team should consider when choosing a classification model.  "
      ]
    },
    {
      "cell_type": "code",
      "metadata": {
        "id": "zuip1BBWSVqz",
        "colab_type": "code",
        "outputId": "db91f84d-b9c7-489b-9e85-92bbe0fda284",
        "colab": {
          "base_uri": "https://localhost:8080/",
          "height": 34
        }
      },
      "source": [
        "print(history.history.keys())"
      ],
      "execution_count": 0,
      "outputs": [
        {
          "output_type": "stream",
          "text": [
            "dict_keys(['val_loss', 'val_acc', 'loss', 'acc'])\n"
          ],
          "name": "stdout"
        }
      ]
    },
    {
      "cell_type": "code",
      "metadata": {
        "id": "jU39WGIiSKfs",
        "colab_type": "code",
        "outputId": "3ad2d35f-6c69-4581-ddc4-dd193c0ee037",
        "colab": {
          "base_uri": "https://localhost:8080/",
          "height": 573
        }
      },
      "source": [
        "# summarize history for accuracy\n",
        "plt.plot(history.history['acc'])\n",
        "plt.plot(history.history['val_acc'])\n",
        "plt.title('model accuracy')\n",
        "plt.ylabel('accuracy')\n",
        "plt.xlabel('epoch')\n",
        "plt.legend(['train', 'test'], loc='upper left')\n",
        "plt.show()\n",
        "# summarize history for loss\n",
        "plt.plot(history.history['loss'])\n",
        "plt.plot(history.history['val_loss'])\n",
        "plt.title('model loss')\n",
        "plt.ylabel('loss')\n",
        "plt.xlabel('epoch')\n",
        "plt.legend(['train', 'test'], loc='upper left')\n",
        "plt.show()"
      ],
      "execution_count": 0,
      "outputs": [
        {
          "output_type": "display_data",
          "data": {
            "image/png": "[encoded data removed]",
            "text/plain": [
              "<Figure size 432x288 with 1 Axes>"
            ]
          },
          "metadata": {
            "tags": []
          }
        },
        {
          "output_type": "display_data",
          "data": {
            "image/png": "[encoded data removed]",
            "text/plain": [
              "<Figure size 432x288 with 1 Axes>"
            ]
          },
          "metadata": {
            "tags": []
          }
        }
      ]
    },
    {
      "cell_type": "code",
      "metadata": {
        "id": "cLKW2FTrUukB",
        "colab_type": "code",
        "outputId": "42e73a22-6ef9-48fc-9a07-138ba026eb69",
        "colab": {
          "base_uri": "https://localhost:8080/",
          "height": 85
        }
      },
      "source": [
        "# train accuracy\n",
        "_, accuracy = model.evaluate(X_train, y_train)\n",
        "print('Train Accuracy: %.2f' % (accuracy*100))\n",
        "\n",
        "# test accuracy\n",
        "_, accuracy = model.evaluate(X_test, y_test)\n",
        "print('Test Accuracy: %.2f' % (accuracy*100))"
      ],
      "execution_count": 0,
      "outputs": [
        {
          "output_type": "stream",
          "text": [
            "4937/4937 [==============================] - 0s 20us/step\n",
            "Train Accuracy: 68.69\n",
            "1235/1235 [==============================] - 0s 23us/step\n",
            "Test Accuracy: 66.56\n"
          ],
          "name": "stdout"
        }
      ]
    },
    {
      "cell_type": "markdown",
      "metadata": {
        "id": "SleMFu01T17M",
        "colab_type": "text"
      },
      "source": [
        "## Grid search \n",
        "\n",
        "This is the most naive way to get the \"best\" model. "
      ]
    },
    {
      "cell_type": "markdown",
      "metadata": {
        "id": "M5h3mkU9bb-Q",
        "colab_type": "text"
      },
      "source": [
        "### batch size and epochs"
      ]
    },
    {
      "cell_type": "code",
      "metadata": {
        "id": "oPzu1_94Wdki",
        "colab_type": "code",
        "colab": {}
      },
      "source": [
        "# fix seed for reproducibility \n",
        "seed = 42\n",
        "numpy.random.seed(seed)"
      ],
      "execution_count": 0,
      "outputs": []
    },
    {
      "cell_type": "code",
      "metadata": {
        "id": "sc2LKxMsUDzq",
        "colab_type": "code",
        "colab": {}
      },
      "source": [
        "def create_model(optimizer='adam'):\n",
        "  # create model\n",
        "  model = Sequential()\n",
        "  model.add(Dense(12, input_dim=num_feats, activation='relu'))\n",
        "  model.add(Dense(num_feats, activation='relu'))\n",
        "  model.add(Dense(1, activation='sigmoid'))\n",
        "  # Compile model\n",
        "  model.compile(loss='binary_crossentropy', optimizer=optimizer, metrics=['accuracy'])\n",
        "  return model"
      ],
      "execution_count": 0,
      "outputs": []
    },
    {
      "cell_type": "code",
      "metadata": {
        "id": "ebK_1k_vWoez",
        "colab_type": "code",
        "colab": {}
      },
      "source": [
        "model = KerasClassifier(build_fn=create_model, verbose=0)"
      ],
      "execution_count": 0,
      "outputs": []
    },
    {
      "cell_type": "code",
      "metadata": {
        "id": "KcmPgMq3WlxR",
        "colab_type": "code",
        "colab": {}
      },
      "source": [
        "# define the grid search parameters\n",
        "batch_size = [10, 20, 40, 60, 80, 100]\n",
        "epochs = [10, 50, 100, 150]\n",
        "param_grid = dict(batch_size=batch_size, epochs=epochs)"
      ],
      "execution_count": 0,
      "outputs": []
    },
    {
      "cell_type": "code",
      "metadata": {
        "id": "1GddXT1JW5L7",
        "colab_type": "code",
        "outputId": "9dbe3a34-f389-4444-edef-3ae98e54958c",
        "colab": {
          "base_uri": "https://localhost:8080/",
          "height": 88
        }
      },
      "source": [
        "grid = GridSearchCV(estimator=model, param_grid=param_grid, n_jobs=-1, cv=3)\n",
        "\n",
        "start = time.time()\n",
        "grid_result = grid.fit(X, y)\n",
        "print('time to fit: ', time.time() - start)"
      ],
      "execution_count": 0,
      "outputs": [
        {
          "output_type": "stream",
          "text": [
            "/usr/local/lib/python3.6/dist-packages/joblib/externals/loky/process_executor.py:706: UserWarning: A worker stopped while some jobs were given to the executor. This can be caused by a too short worker timeout or by a memory leak.\n",
            "  \"timeout or by a memory leak.\", UserWarning\n"
          ],
          "name": "stderr"
        },
        {
          "output_type": "stream",
          "text": [
            "time to fit:  653.826281785965\n"
          ],
          "name": "stdout"
        }
      ]
    },
    {
      "cell_type": "code",
      "metadata": {
        "id": "A_OScE9jXQMi",
        "colab_type": "code",
        "outputId": "bf56ae6c-d0ed-465b-8c47-3bcb70029d0f",
        "colab": {
          "base_uri": "https://localhost:8080/",
          "height": 442
        }
      },
      "source": [
        "print(\"Best: %f using %s\" % (grid_result.best_score_, grid_result.best_params_))\n",
        "means = grid_result.cv_results_['mean_test_score']\n",
        "stds = grid_result.cv_results_['std_test_score']\n",
        "params = grid_result.cv_results_['params']\n",
        "for mean, stdev, param in zip(means, stds, params):\n",
        "    print(\"%f (%f) with: %r\" % (mean, stdev, param))"
      ],
      "execution_count": 0,
      "outputs": [
        {
          "output_type": "stream",
          "text": [
            "Best: 0.683893 using {'batch_size': 10, 'epochs': 10}\n",
            "0.683893 (0.010905) with: {'batch_size': 10, 'epochs': 10}\n",
            "0.680977 (0.008798) with: {'batch_size': 10, 'epochs': 50}\n",
            "0.678708 (0.016034) with: {'batch_size': 10, 'epochs': 100}\n",
            "0.675792 (0.009192) with: {'batch_size': 10, 'epochs': 150}\n",
            "0.681786 (0.012149) with: {'batch_size': 20, 'epochs': 10}\n",
            "0.680004 (0.012080) with: {'batch_size': 20, 'epochs': 50}\n",
            "0.679842 (0.012180) with: {'batch_size': 20, 'epochs': 100}\n",
            "0.678870 (0.010814) with: {'batch_size': 20, 'epochs': 150}\n",
            "0.682921 (0.009208) with: {'batch_size': 40, 'epochs': 10}\n",
            "0.679032 (0.011154) with: {'batch_size': 40, 'epochs': 50}\n",
            "0.680977 (0.006082) with: {'batch_size': 40, 'epochs': 100}\n",
            "0.680329 (0.009008) with: {'batch_size': 40, 'epochs': 150}\n",
            "0.683082 (0.011098) with: {'batch_size': 60, 'epochs': 10}\n",
            "0.682759 (0.010650) with: {'batch_size': 60, 'epochs': 50}\n",
            "0.679194 (0.013179) with: {'batch_size': 60, 'epochs': 100}\n",
            "0.681463 (0.006619) with: {'batch_size': 60, 'epochs': 150}\n",
            "0.680329 (0.007847) with: {'batch_size': 80, 'epochs': 10}\n",
            "0.679356 (0.012592) with: {'batch_size': 80, 'epochs': 50}\n",
            "0.681462 (0.011697) with: {'batch_size': 80, 'epochs': 100}\n",
            "0.675954 (0.010297) with: {'batch_size': 80, 'epochs': 150}\n",
            "0.679032 (0.011415) with: {'batch_size': 100, 'epochs': 10}\n",
            "0.681786 (0.010729) with: {'batch_size': 100, 'epochs': 50}\n",
            "0.679680 (0.012007) with: {'batch_size': 100, 'epochs': 100}\n",
            "0.682759 (0.009996) with: {'batch_size': 100, 'epochs': 150}\n"
          ],
          "name": "stdout"
        }
      ]
    },
    {
      "cell_type": "markdown",
      "metadata": {
        "id": "2KR2fusIbfM2",
        "colab_type": "text"
      },
      "source": [
        "### optimizer"
      ]
    },
    {
      "cell_type": "code",
      "metadata": {
        "id": "XeUnJqUYbgLm",
        "colab_type": "code",
        "colab": {}
      },
      "source": [
        "# choose best batch size and epochs from above, but change the optimizer \n",
        "batch_size = [10]\n",
        "epochs = [10]\n",
        "optimizer = ['SGD', 'RMSprop', 'Adagrad', 'Adadelta', 'Adam', 'Adamax', 'Nadam']\n",
        "\n",
        "param_grid = dict(batch_size=batch_size, epochs=epochs, optimizer=optimizer)"
      ],
      "execution_count": 0,
      "outputs": []
    },
    {
      "cell_type": "code",
      "metadata": {
        "id": "zuiQVgUIbtdn",
        "colab_type": "code",
        "outputId": "401b9f2f-3575-4a1d-cd60-0c5207bacacc",
        "colab": {
          "base_uri": "https://localhost:8080/",
          "height": 34
        }
      },
      "source": [
        "grid = GridSearchCV(estimator=model, param_grid=param_grid, n_jobs=-1, cv=3)\n",
        "\n",
        "start = time.time()\n",
        "grid_result = grid.fit(X, y)\n",
        "print('time to fit: ', time.time() - start)"
      ],
      "execution_count": 0,
      "outputs": [
        {
          "output_type": "stream",
          "text": [
            "time to fit:  80.12534642219543\n"
          ],
          "name": "stdout"
        }
      ]
    },
    {
      "cell_type": "code",
      "metadata": {
        "id": "8BUq-1Rcbx3c",
        "colab_type": "code",
        "outputId": "2a94d21c-5714-4298-a394-22b795828a80",
        "colab": {
          "base_uri": "https://localhost:8080/",
          "height": 153
        }
      },
      "source": [
        "print(\"Best: %f using %s\" % (grid_result.best_score_, grid_result.best_params_))\n",
        "means = grid_result.cv_results_['mean_test_score']\n",
        "stds = grid_result.cv_results_['std_test_score']\n",
        "params = grid_result.cv_results_['params']\n",
        "for mean, stdev, param in zip(means, stds, params):\n",
        "    print(\"%f (%f) with: %r\" % (mean, stdev, param))"
      ],
      "execution_count": 0,
      "outputs": [
        {
          "output_type": "stream",
          "text": [
            "Best: 0.684541 using {'batch_size': 10, 'epochs': 10, 'optimizer': 'SGD'}\n",
            "0.684541 (0.010777) with: {'batch_size': 10, 'epochs': 10, 'optimizer': 'SGD'}\n",
            "0.681786 (0.012756) with: {'batch_size': 10, 'epochs': 10, 'optimizer': 'RMSprop'}\n",
            "0.678060 (0.009592) with: {'batch_size': 10, 'epochs': 10, 'optimizer': 'Adagrad'}\n",
            "0.682273 (0.010050) with: {'batch_size': 10, 'epochs': 10, 'optimizer': 'Adadelta'}\n",
            "0.679194 (0.008406) with: {'batch_size': 10, 'epochs': 10, 'optimizer': 'Adam'}\n",
            "0.680166 (0.009984) with: {'batch_size': 10, 'epochs': 10, 'optimizer': 'Adamax'}\n",
            "0.681301 (0.011401) with: {'batch_size': 10, 'epochs': 10, 'optimizer': 'Nadam'}\n"
          ],
          "name": "stdout"
        }
      ]
    },
    {
      "cell_type": "markdown",
      "metadata": {
        "id": "_UApmWHcDRER",
        "colab_type": "text"
      },
      "source": [
        "# How important are each of the features?\n",
        "\n",
        "Now that we know how well our \"best\" model has done on our task, we should consider: what were the most important variables (features) that led the model to the decisions it made? This is important because as you'll recall in the Training Algorithms section of our guide, we want to know which features our ML model considers most important in making decisions, and see if these line up with your values. If your \"best\" model has values that don't align with yours, maybe it's time to reconsider what \"best\" means!\n",
        "\n",
        "To determine feature importance, we will use the Python package `eli5`. It's useful because it has a [wrapper](https://eli5.readthedocs.io/en/latest/autodocs/sklearn.html#eli5.sklearn.permutation_importance.PermutationImportance) for any black box estimator to do permutation importance (a type of feature importance). You can read their overview of permutation importance [here](https://eli5.readthedocs.io/en/latest/blackbox/permutation_importance.html). "
      ]
    },
    {
      "cell_type": "code",
      "metadata": {
        "id": "-IPheC9MmMHY",
        "colab_type": "code",
        "colab": {}
      },
      "source": [
        "def score(X, y):\n",
        "    y_pred = model.predict_classes(X)\n",
        "    acc = (y == y_pred).mean()\n",
        "    return acc\n",
        "\n",
        "X_fix = X.to_numpy()\n",
        "y_fix = y.to_numpy()\n",
        "y_fix = y_fix.reshape(-1,1)\n",
        "base_score, score_decreases = get_score_importances(score, X_fix, y_fix)\n",
        "feature_importances = np.mean(score_decreases, axis=0)"
      ],
      "execution_count": 0,
      "outputs": []
    },
    {
      "cell_type": "code",
      "metadata": {
        "id": "NWMzPFbbqSsf",
        "colab_type": "code",
        "outputId": "75400c53-caab-45a3-863b-a8ca9e01f8c8",
        "colab": {
          "base_uri": "https://localhost:8080/",
          "height": 68
        }
      },
      "source": [
        "feature_importances"
      ],
      "execution_count": 0,
      "outputs": [
        {
          "output_type": "execute_result",
          "data": {
            "text/plain": [
              "array([ 8.14322748e-02,  3.60012962e-02,  3.82372003e-03,  1.20868438e-02,\n",
              "        3.56448477e-04, -1.94426442e-04, -1.62022035e-04,  9.72132210e-05,\n",
              "       -4.21257291e-04,  4.99027868e-03,  8.74918989e-04])"
            ]
          },
          "metadata": {
            "tags": []
          },
          "execution_count": 111
        }
      ]
    },
    {
      "cell_type": "code",
      "metadata": {
        "id": "2nF_aHXMq3Wb",
        "colab_type": "code",
        "outputId": "270bb296-89b0-4133-e7a6-723e43f0768d",
        "colab": {
          "base_uri": "https://localhost:8080/",
          "height": 414
        }
      },
      "source": [
        "fig = plt.figure()\n",
        "ax = fig.add_axes([0,0,2,1])\n",
        "ax.bar(list(df)[1:],list(feature_importances))\n",
        "plt.xticks(rotation=45)\n",
        "plt.show()"
      ],
      "execution_count": 0,
      "outputs": [
        {
          "output_type": "display_data",
          "data": {
            "image/png": "[encoded data removed]",
            "text/plain": [
              "<Figure size 432x288 with 1 Axes>"
            ]
          },
          "metadata": {
            "tags": []
          }
        }
      ]
    },
    {
      "cell_type": "markdown",
      "metadata": {
        "id": "Sfbv3N1Xuct9",
        "colab_type": "text"
      },
      "source": [
        "# Summary\n",
        "\n",
        "As we can tell, ProPublica did a great job of making sure the dataset was balanced and had features that reflected their values. The model relies the most heavily on the number of priors and the score factor to determine the likelihood that someone will recidivate in two years. The racial factors are extremely minimal. We can see that age and gender play a small role, but they are still dwarfed by the two main features. As we emphasized in the dataset section, a good dataset is crucial for a good model! "
      ]
    },
    {
      "cell_type": "code",
      "metadata": {
        "id": "wvA-h_cjyGvj",
        "colab_type": "code",
        "colab": {}
      },
      "source": [
        ""
      ],
      "execution_count": 0,
      "outputs": []
    }
  ]
}